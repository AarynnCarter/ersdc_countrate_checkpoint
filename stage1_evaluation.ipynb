{
 "cells": [
  {
   "cell_type": "markdown",
   "id": "d5e5bb6e",
   "metadata": {},
   "source": [
    "# _ers-transit Data Checkpoint_: Countrate Images 🧮 🖼\n",
    "\n",
    "This notebook serves as a quick method of visualising and evaluating countrate images, or more specifically, equivalent data products to those produced by [Stage 1](https://jwst-pipeline.readthedocs.io/en/latest/jwst/pipeline/calwebb_detector1.html#calwebb-detector1) of the [JWST Pipeline](https://jwst-pipeline.readthedocs.io/en/latest/index.html#) (*_rateints.fits). \n",
    "\n",
    "## Step 0: Import Packages 📦"
   ]
  },
  {
   "cell_type": "code",
   "execution_count": 1,
   "id": "251c0eeb",
   "metadata": {},
   "outputs": [],
   "source": [
    "import utils\n",
    "import matplotlib.pyplot as plt"
   ]
  },
  {
   "cell_type": "markdown",
   "id": "e1d2b30b",
   "metadata": {},
   "source": [
    "## Step 1: Load the Data 💾\n",
    "\n",
    "Data should be provided in one of the following formats:\n",
    "\n",
    "    1) A filepath to a directory containing any number of FITS files. \n",
    "    or\n",
    "    2) A filepath to a single FITS file.\n",
    "    \n",
    "By default, it is assumed that data is being provided as it would be from the JWST Pipeline. In this case, science data is held in the 'SCI' extension, and errors in the 'ERR' extension. However, if your files have different extension names, or if you'd prefer to use the extension indices, the call to the loading function below can be adjusted as necessary. Additionally, when a directory filepath is provided, only files with a ```*rateints.fits``` suffix will be searched for. If you have used a different suffix, edit the suffix parameter as necessary. Finally, if you have saved your arrays in a different orientation to the default JWST pipeline. the indices for the x_ax (dispersion), y_ax (cross dispersion), and t_ax (integrations) axes can be defined. In summary:\n",
    "\n",
    "    a) Check provided extensions are correct.\n",
    "    b) If using a directory filepath, check provided suffix is correct.\n",
    "    c) If arrays are not shaped like JWST pipeline, define axes.\n",
    "    \n",
    "As a final note on using a directory filepath, please ensure that files are named such that a ```sorted(list_of_file_names)``` call would place them in chronological order. "
   ]
  },
  {
   "cell_type": "code",
   "execution_count": 2,
   "id": "7868c91e",
   "metadata": {},
   "outputs": [],
   "source": [
    "##### PLEASE COPY YOUR FILEPATH BELOW\n",
    "filepath = '/Users/acarter/Documents/TRANSITS/EUREKA/DATA/NIRCam/STAGE1/'\n",
    "\n",
    "##### ADJUST PARAMETERS AS NECESSARY, SEE ABOVE FOR GUIDANCE\n",
    "data = utils.load_data(filepath, sci_ext='SCI', err_ext='ERR', suffix='calints.fits', x_ax=2, y_ax=1, t_ax=0)"
   ]
  },
  {
   "cell_type": "markdown",
   "id": "aaecf681",
   "metadata": {},
   "source": [
    "## Step 2: Evaluate the Data 🔎\n",
    "\n",
    "Hopefully your data has been succesfully loaded, and now we can start to look at the results. To do so, we'll need just a little bit more information from you. Specifically, the instrument this simulated data is from, as it let's us know what to compare your reduced data to! "
   ]
  },
  {
   "cell_type": "code",
   "execution_count": 3,
   "id": "ffb21fe9",
   "metadata": {},
   "outputs": [],
   "source": [
    "##### PLEASE COPY INSTRUMENT BELOW\n",
    "instrument = 'nircam'"
   ]
  },
  {
   "cell_type": "markdown",
   "id": "44482270",
   "metadata": {},
   "source": [
    "### a) Mean and Standard Deviation of Residuals\n",
    "TODO"
   ]
  },
  {
   "cell_type": "code",
   "execution_count": null,
   "id": "0014c658",
   "metadata": {},
   "outputs": [],
   "source": []
  },
  {
   "cell_type": "markdown",
   "id": "c462cb32",
   "metadata": {},
   "source": [
    "### b) Bad Pixels\n",
    "\n",
    "This will assess the occurence of bad pixels throughout the countrate images."
   ]
  },
  {
   "cell_type": "code",
   "execution_count": 4,
   "id": "517eb1e3",
   "metadata": {},
   "outputs": [
    {
     "name": "stderr",
     "output_type": "stream",
     "text": [
      "/Users/acarter/Documents/TRANSITS/ERS/DATA_CHALLENGE/STAGE2_ASSESS/utils.py:89: RuntimeWarning: invalid value encountered in true_divide\n",
      "  outlier_image = np.divide(np.subtract(image,meds), stds)\n"
     ]
    },
    {
     "data": {
      "image/png": "[encoded data removed]",
      "text/plain": [
       "<Figure size 432x288 with 1 Axes>"
      ]
     },
     "metadata": {
      "needs_background": "light"
     },
     "output_type": "display_data"
    }
   ],
   "source": [
    "data.bad_pixels(nints=5)"
   ]
  },
  {
   "cell_type": "markdown",
   "id": "afe2d907",
   "metadata": {},
   "source": [
    "### c) Background Trends\n",
    "TODO"
   ]
  },
  {
   "cell_type": "code",
   "execution_count": null,
   "id": "10923fe4",
   "metadata": {},
   "outputs": [],
   "source": []
  },
  {
   "cell_type": "markdown",
   "id": "75aff176",
   "metadata": {},
   "source": [
    "### d) Summary\n",
    "TODO"
   ]
  },
  {
   "cell_type": "code",
   "execution_count": null,
   "id": "9138b817",
   "metadata": {},
   "outputs": [],
   "source": []
  },
  {
   "cell_type": "code",
   "execution_count": null,
   "id": "a8e01e0a",
   "metadata": {},
   "outputs": [],
   "source": []
  },
  {
   "cell_type": "code",
   "execution_count": null,
   "id": "48f6b0f0",
   "metadata": {},
   "outputs": [],
   "source": []
  },
  {
   "cell_type": "code",
   "execution_count": null,
   "id": "87dd7444",
   "metadata": {},
   "outputs": [],
   "source": []
  }
 ],
 "metadata": {
  "kernelspec": {
   "display_name": "Python 3 (ipykernel)",
   "language": "python",
   "name": "python3"
  },
  "language_info": {
   "codemirror_mode": {
    "name": "ipython",
    "version": 3
   },
   "file_extension": ".py",
   "mimetype": "text/x-python",
   "name": "python",
   "nbconvert_exporter": "python",
   "pygments_lexer": "ipython3",
   "version": "3.10.2"
  }
 },
 "nbformat": 4,
 "nbformat_minor": 5
}
